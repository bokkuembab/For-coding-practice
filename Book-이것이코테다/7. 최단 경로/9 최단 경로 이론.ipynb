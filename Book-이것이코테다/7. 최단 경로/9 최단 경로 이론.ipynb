{
 "cells": [
  {
   "cell_type": "markdown",
   "metadata": {},
   "source": [
    "최단 경로  \n",
    "특정 지점가지 가장 빠르게 도달하는 방법을 찾는 알고리즘"
   ]
  },
  {
   "cell_type": "markdown",
   "metadata": {},
   "source": [
    "1. 간단한 다익스트라 알고리즘  \n",
    "- 구현하기 쉽지만 느리게 동작함\n",
    "- 시간 복잡도: O(V^2) (V: 노드 개수)\n",
    "- 매 단계마다 1차원 리스트를 '순차 탐색'하여 '방문 여부를 확인해 최단 거리가 가장 짧은 노드를 선택'함\n",
    "- 데이터 수가 많다는 가정 하에 sys 라이브러리의 sys.stdin.readline으로 입력받음\n",
    "- 모든 리스트는 (노드 개수 + 1)개로 설정해 노드 번호로 리스트에 접근 가능하게 함"
   ]
  },
  {
   "cell_type": "code",
   "execution_count": 1,
   "metadata": {},
   "outputs": [],
   "source": [
    "# 간단한 다익스트라 알고리즘 구현\n",
    "\n",
    "# 입력 데이터의 수가 많을 것을 대비해 sys 라이브러리의 readline() 함수 사용해 입력 설정\n",
    "import sys\n",
    "input = sys.stdin.readline\n",
    "INF = int(1e9)      # 무한을 의미하는 값으로 10억 설정\n",
    "\n",
    "# 노드 n , 간선의 개수 m, 시작 노드 번호 start 입력 받기\n",
    "n, m = map(int, input().split())\n",
    "start = int(input())\n",
    "\n",
    "# 노드, 간선의 정보를 저장할 그래프 생성\n",
    "graph = [[] for _ in range(n + 1)]\n",
    "\n",
    "# 방문 여부 확인을 위한 리스트 생성\n",
    "visited = [False] * (n + 1)\n",
    "\n",
    "# 최단 거리 저장을 위한 리스트 생성\n",
    "# 모두 무한으로 초기화\n",
    "distance = [INF] * (n + 1)\n",
    "\n",
    "# 간선 정보 입력 받기 \n",
    "for _ in range(m):\n",
    "    s, e, c = map(int, input().split())     # (노드, 연결 노드, 비용)\n",
    "    graph[s].append((e, c))         # 튜플 형태로 저장\n",
    "\n",
    "\n",
    "# 방문하지 않은 노드 중, 가장 최단 거리 짧은 노드의 인덱스 반환\n",
    "def get_smallest_node():\n",
    "    min_value = INF       # 최소값을 무한으로 초기화\n",
    "    index = 0       # 가장 최단 거리가 짧은 노드 (인덱스)\n",
    "\n",
    "    for i in range(1, n + 1):\n",
    "        if distance[i] < min_value and not visited[i]:\n",
    "            min_value = distance[i]\n",
    "            index = i\n",
    "        \n",
    "    # 최단 거리가 가장 짧은 노드(인덱스) 출력\n",
    "    return index\n",
    "\n",
    "# 다익스트라 알고리즘 생성\n",
    "def dijkstra(start):\n",
    "    \n",
    "    # 시작 노드에 대해 초기화\n",
    "    distance[start] = 0\n",
    "    visited[start] = True\n",
    "    \n",
    "    # start 노드의 다른 노드와의 연결 정보(튜플) 불러와서 저장\n",
    "    for j in graph[start]:\n",
    "        distance[j[0]] = j[1]\n",
    "\n",
    "    # 시작 노드를 제외한 전체 (n - 1)개 노드에 대해 반복 (최단 거리 확인)\n",
    "    # 시작 노드는 이미 방문한 노드이므로 get_smallest_node() 함수에서 무시됨\n",
    "    # 따라서, 방문하지 않았던 나머지 (n - 1)개 노드가 모두 방문됨\n",
    "    for _ in range(n - 1):\n",
    "        # 현재 최단 거리가 가장 짧은 노드 찾아서, 방문 처리\n",
    "        now = get_smallest_node()\n",
    "        visited[now] = True\n",
    "\n",
    "        # 현재 노드와 연결된 다른 노드 확인 (현재 노드의 연결 정보(튜플) 불러옴)\n",
    "        for j in graph[now]:\n",
    "            cost = distance[now] + j[1]     # 현재 거리 + 다른 노드와의 거리\n",
    "            # 현재 노드를 거쳐 다른 노드로 이동하는 거리가 더 짧은 경우\n",
    "            if cost < distance[j[0]]:\n",
    "                distance[j[0]] = cost\n",
    "\n",
    "# 다익스트라 알고리즘 수행\n",
    "dijkstra(start)\n",
    "\n",
    "# 계산한 모든 노드로 갈 수 있는 최단 거리 출력\n",
    "for d in range(1, n + 1):\n",
    "    if distance[d] == INF:      # start에서 도달 불가능한 경우, INFINITY 출력\n",
    "        print('INFINITY')\n",
    "    else:                       # start에서 도달 가능한 경우, 최단 거리 출력\n",
    "        print(distance[d])"
   ]
  },
  {
   "cell_type": "markdown",
   "metadata": {},
   "source": [
    "2. 개선된 다익스트라 알고리즘  \n",
    "- 구현하기 조금 까다롭지만 빠르게 동작하는 코드"
   ]
  }
 ],
 "metadata": {
  "kernelspec": {
   "display_name": "Python 3.10.5 64-bit",
   "language": "python",
   "name": "python3"
  },
  "language_info": {
   "codemirror_mode": {
    "name": "ipython",
    "version": 3
   },
   "file_extension": ".py",
   "mimetype": "text/x-python",
   "name": "python",
   "nbconvert_exporter": "python",
   "pygments_lexer": "ipython3",
   "version": "3.10.5"
  },
  "orig_nbformat": 4,
  "vscode": {
   "interpreter": {
    "hash": "73e0f9298fc44a2553d445ea3d56193d3db151e2ab5c4b2ec3845cad4bb2f0bd"
   }
  }
 },
 "nbformat": 4,
 "nbformat_minor": 2
}
