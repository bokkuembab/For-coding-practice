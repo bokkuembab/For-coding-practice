{
 "cells": [
  {
   "cell_type": "markdown",
   "metadata": {},
   "source": [
    "다이나믹 프로그래밍  \n",
    "한 번 계산한 문제는 다시 계산하지 않도록 하는 알고리즘"
   ]
  },
  {
   "cell_type": "markdown",
   "metadata": {},
   "source": [
    "피보나치 함수  \n",
    "- 대표적인 다이나믹 프로그래밍 예시\n",
    "- 재귀적 (탑다운), 반복적 (보텀업)으로 구현 가능"
   ]
  },
  {
   "cell_type": "code",
   "execution_count": 5,
   "metadata": {},
   "outputs": [
    {
     "name": "stdout",
     "output_type": "stream",
     "text": [
      "3\n"
     ]
    }
   ],
   "source": [
    "# 피보나치 함수 - 재귀 함수로 구현 (다이나믹 프로그래밍 X)\n",
    "# 값이 너무 커지면 수행 시간이 기하급수적으로 늘어남\n",
    "# \n",
    "def fibo(x):\n",
    "\n",
    "    # 재귀함수 종료 조건 설정\n",
    "    if x == 1 or x == 2:\n",
    "        return 1\n",
    "    else:\n",
    "        return fibo(x - 1) + fibo(x - 2)\n",
    "\n",
    "print(fibo(4))"
   ]
  },
  {
   "cell_type": "markdown",
   "metadata": {},
   "source": [
    "피보나치 함수 - 재귀적으로 구현 (top-down 방식)  \n",
    "- 메모이제이션 기법 (캐싱) 사용: 한 번 구한 결과를 메모리 공간에 메모해두고 같은 식을 다시 호출하면 메모한 결과를 그대로 가져오는 기법  \n",
    "- 시간 복잡도: O(N)\n",
    "- 재귀 함수 스택 범위를 넘어서는 경우, sys 라이브러리의 setrecursionlimit() 함수로 재귀 제한 완화 가능"
   ]
  },
  {
   "cell_type": "code",
   "execution_count": 8,
   "metadata": {},
   "outputs": [
    {
     "name": "stdout",
     "output_type": "stream",
     "text": [
      "218922995834555169026\n"
     ]
    }
   ],
   "source": [
    "# 피보나치 함수 - 재귀적 (top-down 방식)\n",
    "\n",
    "# 메모이제이션을 위한 리스트 초기화\n",
    "memo = [0] * 100\n",
    "\n",
    "def fibo_rec(x):\n",
    "    \n",
    "    # 종료 조건 설정\n",
    "    if x == 1 or x == 2:\n",
    "        return 1\n",
    "\n",
    "    # 한 번 계산한 적이 있다면, 그대로 반환\n",
    "    if memo[x] != 0:\n",
    "        return memo[x]\n",
    "    \n",
    "    # 아직 계산한 적이 없다면, 점화식에 따라 결과 반환\n",
    "    memo[x] = fibo_rec(x - 1) + fibo_rec(x - 2)\n",
    "    return memo[x]\n",
    "\n",
    "print(fibo_rec(99))"
   ]
  },
  {
   "cell_type": "markdown",
   "metadata": {},
   "source": [
    "피보나치 함수 - 반복적으로 구현 (bottom-up 방식)  \n",
    "- DP 테이블 이용: 결과 저장용 리스트. 미리 모든 결과들을 저장해 놓는 리스트  \n",
    "- 재귀함수 대신에 반복문을 사용하면 오버헤드를 줄일 수 있음  \n",
    "- 시스템상 재귀 함수의 스택 크기가 한정되어 있을 수 있으므로 반복적으로 구현하는 것 권장"
   ]
  },
  {
   "cell_type": "code",
   "execution_count": 7,
   "metadata": {},
   "outputs": [
    {
     "name": "stdout",
     "output_type": "stream",
     "text": [
      "218922995834555169026\n"
     ]
    }
   ],
   "source": [
    "# 피보나치 함수 - 반복적 (bottom-up 방식)\n",
    "\n",
    "# 미리 계산된 값들을 저장하기 위한 DP 테이블 생성\n",
    "dp = [0] * 100\n",
    "\n",
    "# 첫번째, 두번때 피보나치 수는 1\n",
    "dp[1], dp[2] = 1, 1\n",
    "n = 99\n",
    "\n",
    "# 반복문으로 피보나치 수열 구현\n",
    "for i in range(2, n + 1):\n",
    "    dp[i] = dp[i - 1] + dp[i - 2]\n",
    "\n",
    "print(dp[n])"
   ]
  }
 ],
 "metadata": {
  "kernelspec": {
   "display_name": "Python 3.10.5 64-bit",
   "language": "python",
   "name": "python3"
  },
  "language_info": {
   "codemirror_mode": {
    "name": "ipython",
    "version": 3
   },
   "file_extension": ".py",
   "mimetype": "text/x-python",
   "name": "python",
   "nbconvert_exporter": "python",
   "pygments_lexer": "ipython3",
   "version": "3.10.5"
  },
  "orig_nbformat": 4,
  "vscode": {
   "interpreter": {
    "hash": "73e0f9298fc44a2553d445ea3d56193d3db151e2ab5c4b2ec3845cad4bb2f0bd"
   }
  }
 },
 "nbformat": 4,
 "nbformat_minor": 2
}
