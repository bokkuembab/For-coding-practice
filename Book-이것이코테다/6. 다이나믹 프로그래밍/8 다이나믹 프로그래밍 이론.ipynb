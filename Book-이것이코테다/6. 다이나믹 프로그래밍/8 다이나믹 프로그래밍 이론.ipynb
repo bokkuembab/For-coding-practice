{
 "cells": [
  {
   "cell_type": "markdown",
   "metadata": {},
   "source": [
    "다이나믹 프로그래밍  \n",
    "한 번 계산한 문제는 다시 계산하지 않도록 하는 알고리즘"
   ]
  },
  {
   "cell_type": "markdown",
   "metadata": {},
   "source": []
  }
 ],
 "metadata": {
  "language_info": {
   "name": "python"
  },
  "orig_nbformat": 4
 },
 "nbformat": 4,
 "nbformat_minor": 2
}
