{
 "cells": [
  {
   "cell_type": "markdown",
   "metadata": {},
   "source": [
    "이진 탐색 - 탐색 범위를 반으로 좁혀가며 빠르게 탐색하는 알고리즘"
   ]
  },
  {
   "cell_type": "markdown",
   "metadata": {},
   "source": [
    "순차 탐색  \n",
    "- 리스트 안에 있는 특정한 데이터를 찾기 위해 앞에서부터 데이터를 하나씩 차례대로 확인하는 방법  \n",
    "- 보통 정렬되지 않은 리스트에서 데이터를 찾아야 할 때 사용함\n",
    "- 시간복잡도: O(N)"
   ]
  },
  {
   "cell_type": "code",
   "execution_count": null,
   "metadata": {},
   "outputs": [],
   "source": [
    "# 순차 탐색 함수 구현\n",
    "def sequential_search(n, target, array):\n",
    "\n",
    "    # 각 원소 하나씩 확인\n",
    "    for i in range(n):\n",
    "\n",
    "        # 찾는 원소와 동일할 경우, 현재 인덱스 반환\n",
    "        if array[i] == target:\n",
    "            return i + 1"
   ]
  },
  {
   "cell_type": "code",
   "execution_count": null,
   "metadata": {},
   "outputs": [
    {
     "name": "stdout",
     "output_type": "stream",
     "text": [
      "3\n"
     ]
    }
   ],
   "source": [
    "array = ['Hangeul', 'Jonggu', 'Dongbin', 'Taeil', 'Sangwook']\n",
    "print(sequential_search(len(array), 'Dongbin', array))"
   ]
  },
  {
   "cell_type": "markdown",
   "metadata": {},
   "source": [
    "이진 탐색\n",
    "- 배열 내부의 데이터가 정렬되어 있어야만 사용 가능\n",
    "- 탐색 범위를 반으로 좁혀가며 데이터를 탐색함\n",
    "- 시간복잡도: O(logN)"
   ]
  },
  {
   "cell_type": "code",
   "execution_count": 17,
   "metadata": {},
   "outputs": [],
   "source": [
    "# 이진 탐색: 재귀 함수로 구현\n",
    "def binary_search_recursive(array, target, start, end):\n",
    "\n",
    "    # 찾는 값이 없는 경우\n",
    "    if start > end:\n",
    "        return None\n",
    "\n",
    "    # 중간값 설정\n",
    "    mid = (start + end) //2\n",
    "\n",
    "    # 찾는 값 찾은 경우 인덱스 반환\n",
    "    if array[mid] == target:\n",
    "        return mid\n",
    "    # 찾는 값이 중간값보다 작은 경우, 왼쪽 확인\n",
    "    elif target < array[mid]:\n",
    "        return binary_search_recursive(array, target, start, mid - 1)\n",
    "    # 찾는 값이 중간값보다 큰 경우, 오른쪽 확인\n",
    "    else:\n",
    "        return binary_search_recursive(array, target, mid + 1, end)"
   ]
  },
  {
   "cell_type": "code",
   "execution_count": 18,
   "metadata": {},
   "outputs": [],
   "source": [
    "# 이진 탐색: 반복문으로 구현\n",
    "def binary_search(array, target, start, end):\n",
    "\n",
    "    # 전체 탐색할 때까지 반복\n",
    "    while start <= end:\n",
    "        \n",
    "        # 중간값 설정\n",
    "        mid = (start + end) // 2\n",
    "\n",
    "        # 찾는 값 찾은 경우\n",
    "        if array[mid] == target:\n",
    "            return mid\n",
    "        # 찾는 값이 중간 값보다 작은 경우, 왼쪽 탐색\n",
    "        elif target < array[mid]:\n",
    "            end = mid - 1\n",
    "        # 찾는 값이 중간 값보다 큰 경우, 오른쪽 탐색\n",
    "        else:\n",
    "            start = mid + 1\n",
    "\n",
    "    # 찾는 값이 없는 경우\n",
    "    return None"
   ]
  },
  {
   "cell_type": "code",
   "execution_count": 19,
   "metadata": {},
   "outputs": [
    {
     "name": "stdout",
     "output_type": "stream",
     "text": [
      "재귀문 결과\n",
      "4\n",
      "반복문 결과\n",
      "4\n"
     ]
    }
   ],
   "source": [
    "n, target = 10, 7\n",
    "array = [1, 3, 5, 7, 9, 11, 13, 15, 17, 19]\n",
    "\n",
    "# 이진 탐색 수행 결과 출력\n",
    "result_rec = binary_search_recursive(array, target, 0, n - 1)\n",
    "result = binary_search(array, target, 0, n - 1)\n",
    "\n",
    "print(\"재귀문 결과\")\n",
    "\n",
    "# 원소 없는 경우\n",
    "if result_rec == None:\n",
    "    print(\"원소 없음\")\n",
    "else:\n",
    "    print(result_rec + 1)\n",
    "\n",
    "print(\"반복문 결과\")\n",
    "\n",
    "# 원소 없는 경우\n",
    "if result == None:\n",
    "    print(\"원소 없음\")\n",
    "else:\n",
    "    print(result + 1)"
   ]
  },
  {
   "cell_type": "markdown",
   "metadata": {},
   "source": [
    "- input() 함수는 시간이 오래 걸림  \n",
    "- 입력 데이터가 많은 경우, sys 라이브러리의 readline() 함수 사용"
   ]
  },
  {
   "cell_type": "code",
   "execution_count": null,
   "metadata": {},
   "outputs": [],
   "source": [
    "# sys 라이브러리의 readline() 함수 이용해 입력받기\n",
    "import sys\n",
    "\n",
    "input_data = sys.stdin.readline().rstrip()\n",
    "print(input_data)"
   ]
  }
 ],
 "metadata": {
  "kernelspec": {
   "display_name": "Python 3.10.5 64-bit",
   "language": "python",
   "name": "python3"
  },
  "language_info": {
   "codemirror_mode": {
    "name": "ipython",
    "version": 3
   },
   "file_extension": ".py",
   "mimetype": "text/x-python",
   "name": "python",
   "nbconvert_exporter": "python",
   "pygments_lexer": "ipython3",
   "version": "3.10.5"
  },
  "orig_nbformat": 4,
  "vscode": {
   "interpreter": {
    "hash": "73e0f9298fc44a2553d445ea3d56193d3db151e2ab5c4b2ec3845cad4bb2f0bd"
   }
  }
 },
 "nbformat": 4,
 "nbformat_minor": 2
}
