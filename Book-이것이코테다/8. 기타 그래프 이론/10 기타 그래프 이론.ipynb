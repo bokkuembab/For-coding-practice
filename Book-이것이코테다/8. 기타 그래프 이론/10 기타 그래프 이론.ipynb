{
 "cells": [
  {
   "cell_type": "markdown",
   "metadata": {},
   "source": [
    "기타 그래프 이론  \n",
    "##### 그래프  \n",
    "- 노드와 노드 사이에 연결된 간선의 정보를 갖고 있는 자료구조\n",
    "- '알고리즘 문제에서 서로 다른 개체 (혹은 객체)가 서로 연결되어 있다' 는 내용이 나오면 가장 먼저 그래프 알고리즘을 떠올려야 함\n",
    "\n",
    "##### 트리\n",
    "- 다양한 알고리즘에서 사용됨\n",
    "- 부모에서 자식으로 내려오는 계층적인 모델에 속함\n",
    "\n",
    "  |           |          그래프             |   트리        |  \n",
    "  |----------|-----------------------------|--------------|\n",
    "  |  방향성 | 방향 그래프 혹은 무방향 그래프 | 방향 그래프 |  \n",
    "  |   순환성 |         순환 및 비순환      |    비순환      |\n",
    "  | 루트 노드 존재 여부|루트 노드가 없음 | 루트 노드가 존재|\n",
    "  | 노드간 관계성| 부모와 자식 관계 없음 | 부모와 자식 관계|\n",
    "  |모델의 종류| 네트워크 모델| 계층 모델|"
   ]
  },
  {
   "cell_type": "markdown",
   "metadata": {},
   "source": [
    "서로소 집합\n",
    "- 공통 원소가 없는 집합\n",
    "- 서로소 부분 집합들로 나누어진 원소들의 데이터를 처리하기 위한 자료구조\n",
    "- union, find 연산 사용함-> uniton-find 자료구조라고 부르기도 함\n",
    "- 트리 자료구조를 이용해 집합 표현\n",
    "\n",
    "연산\n",
    "- UNION:2개의 원소가 포함된 집합을 하나의 집합으로 합치는 연산\n",
    "- FIND: 특정한 원소가 속한 집합이 어떤 집합인지 알려주는 연산"
   ]
  },
  {
   "cell_type": "markdown",
   "metadata": {},
   "source": [
    "기본적인 서로소집합 구현\n",
    "- 문제점: union 연산이 편향되게 이루어지는 경우 find 함수가 비효율적으로 동작함\n",
    "- 최악의 경우 모든 노드를 탐색하여 시간복잡도가 O(V)임"
   ]
  },
  {
   "cell_type": "code",
   "execution_count": 4,
   "metadata": {},
   "outputs": [
    {
     "name": "stdout",
     "output_type": "stream",
     "text": [
      "각 원소가 속한 집합:  1 1 1 1 5 5 \n",
      "부모 테이블:  1 1 2 1 5 5 "
     ]
    }
   ],
   "source": [
    "# 기본적인 서로소 집합 알고리즘\n",
    "\n",
    "# find 연산 구현\n",
    "# 특정 원소가 포함된 집합 찾기\n",
    "def find_parent(parent, x):\n",
    "\n",
    "    # 루트 노드가 아니라면, 루트 노드를 찾을 때까지 재귀적 호출\n",
    "    if parent[x] != x:\n",
    "        return find_parent(parent, parent[x])\n",
    "    return x\n",
    "\n",
    "# union 연산 구현\n",
    "# 두 원소가 속한 집합을 합치기\n",
    "def union_parent(parent, a, b):\n",
    "\n",
    "    # 각자의 부모 노드 찾기\n",
    "    a = find_parent(parent, a)\n",
    "    b = find_parent(parent, b)\n",
    "\n",
    "    if a < b:\n",
    "        parent[b] = a\n",
    "    else:\n",
    "        parent[a] = b\n",
    "\n",
    "# 노드, 간선(union 연산)의 개수 입력 받기\n",
    "v, e = map(int, input().split())\n",
    "\n",
    "# 부모노드 정보 담은 테이블 초기화\n",
    "parent = [0] * (v + 1)\n",
    "for i in range(1, v + 1):\n",
    "    parent[i] = i       # 부모 노드를 자기 자신으로 초기화\n",
    "\n",
    "# union 연산 수행\n",
    "for i in range(e):\n",
    "    a, b = map(int, input().split())\n",
    "    union_parent(parent, a, b)\n",
    "\n",
    "# 각 원소가 속한 집합 출력\n",
    "print('각 원소가 속한 집합: ', end=' ')\n",
    "for i in range(1, v + 1):\n",
    "    print(find_parent(parent, i), end=' ')\n",
    "print()\n",
    "\n",
    "#부모 노드 테이블 출력\n",
    "print('부모 테이블: ', end=' ')\n",
    "for i in range(1, v + 1):\n",
    "    print(parent[i], end=' ')"
   ]
  },
  {
   "cell_type": "markdown",
   "metadata": {},
   "source": [
    "서로소 집합 자료구조\n",
    "- 경로 압축 (Path Compression)  \n",
    ": 찾은 부모노드의 값을 바로 갱신함\n",
    ": 즉, 해당 노드의 바로 위 부모 노드가 아닌, 최상위 부모 노드 저장\n",
    ": 기본적인 서로소 집합 구현 방법보다 시간복잡도가 개선됨"
   ]
  },
  {
   "cell_type": "code",
   "execution_count": 7,
   "metadata": {},
   "outputs": [
    {
     "name": "stdout",
     "output_type": "stream",
     "text": [
      "각 원소가 속한 집합: 1 1 1 1 5 5 \n",
      "부모 테이블:  1 1 1 1 5 5 "
     ]
    }
   ],
   "source": [
    "# 경로 압축 이용한 서로소 집합 알고리즘\n",
    "\n",
    "# 찾기 함수 구현 (경로압축 기법 이용)\n",
    "def find_parent(parent, x):\n",
    "\n",
    "    # 부모 노드 아니라면, 재귀적으로 찾기\n",
    "    if parent[x] != x:\n",
    "        parent[x] = find_parent(parent, parent[x])      # 찾은 부모 노드 계속 갱신\n",
    "    \n",
    "    return parent[x]\n",
    "\n",
    "# 합집합 함수 구현\n",
    "def union_parent(parent, a, b):\n",
    "    \n",
    "    # 각자의 부모노드 찾기\n",
    "    a = find_parent(parent, a)\n",
    "    b = find_parent(parent, b)\n",
    "\n",
    "    # 더 작은 값을 부모노드로 설정\n",
    "    if a < b:\n",
    "        parent[b] = a\n",
    "    else:\n",
    "        parent[a] = b\n",
    "\n",
    "# 노드, 간선의 개수 입력받기\n",
    "v, e = map(int, input().split())\n",
    "\n",
    "# 부모 노드 저장 리스트 초기화\n",
    "parent = [0] * (v + 1)\n",
    "for i in range(1, v + 1):\n",
    "    parent[i] = i   # 자기 자신으로 부모노드 설정\n",
    "\n",
    "# 각 간선에 대해 union 연산 수행\n",
    "for i in range(e):\n",
    "    a, b = map(int, input().split())\n",
    "    union_parent(parent, a, b)\n",
    "\n",
    "# 부모 노드들 출력\n",
    "print('각 원소가 속한 집합:', end=' ')\n",
    "for i in range(1, v + 1):\n",
    "    print(find_parent(parent, i), end=' ')\n",
    "print()\n",
    "\n",
    "# 부모 리스트 출력\n",
    "print('부모 테이블: ', end=' ')\n",
    "for i in range(1, v + 1):\n",
    "    print(parent[i], end=' ')"
   ]
  },
  {
   "cell_type": "markdown",
   "metadata": {},
   "source": [
    "서로소 집합을 활용한 사이클 판별\n",
    "- 서로소 집합은 무방향 그래프내에서의 사이클 판별에 사용될 수 있음\n",
    "- (방향 그래프에서의 사이클 판별은 DFS로!)"
   ]
  },
  {
   "cell_type": "code",
   "execution_count": 9,
   "metadata": {},
   "outputs": [
    {
     "name": "stdout",
     "output_type": "stream",
     "text": [
      "사이클이 발생했습니다.\n"
     ]
    }
   ],
   "source": [
    "# 서로소 집합을 활용한 사이클 판별 소스코드\n",
    "\n",
    "# find 함수 생성 (경로 압축 이용)\n",
    "def find_parent(parent, x):\n",
    "    \n",
    "    # 부모 노드가 아니라면, 재귀적 호출\n",
    "    if parent[x] != x:\n",
    "        parent[x] = find_parent(parent, parent[x])\n",
    "    return parent[x]\n",
    "\n",
    "# union 함수 생성\n",
    "def union_parent(parent, a, b):\n",
    "\n",
    "    # 부모노드 찾기\n",
    "    a = find_parent(parent, a)\n",
    "    b = find_parent(parent, b)\n",
    "\n",
    "    # 더 작은 값을 부모노드로 설정\n",
    "    if a < b:\n",
    "        parent[b] = a\n",
    "    else:\n",
    "        parent[a] = b\n",
    "\n",
    "# 노드, 간선의 개수 입력 받기\n",
    "v, e = map(int, input().split())\n",
    "\n",
    "# 변수들 설정\n",
    "# 부모 노드 리스트 초기화\n",
    "parent = [0] * (v + 1)\n",
    "for i in range(1, v + 1):\n",
    "    parent[i] = i\n",
    "# 싸이클 발생여부 변수 초기화\n",
    "cycle = False\n",
    "\n",
    "# union 연산 수행하며 싸이클 확인\n",
    "for i in range(e):\n",
    "\n",
    "    # 간선 입력 받기\n",
    "    a, b = map(int, input().split())\n",
    "\n",
    "    # 사이클이 발생한 경우, 종료\n",
    "    # 부모 노드 같은지 확인\n",
    "    if find_parent(parent, a) == find_parent(parent, b):\n",
    "        cycle = True\n",
    "        break\n",
    "    # 사이클이 발생하지 않았다면, 합집합 연산 수행\n",
    "    else:\n",
    "        union_parent(parent, a, b)\n",
    "\n",
    "# 결과 출력\n",
    "if cycle:\n",
    "    print('사이클이 발생했습니다.')\n",
    "else: \n",
    "    print('사이클이 발생하지 않았습니다.')"
   ]
  },
  {
   "cell_type": "markdown",
   "metadata": {},
   "source": [
    "신장 트리 (Spanning Tree)  \n",
    "- 하나의 그래프에서, 모든 노드가 포함돼 있으면서 사이클(cycle)이 존재하지 않는 '부분 그래프'\n",
    "- 모든 노드가 포함되어 서로 연결되면서 사이클이 존재하지 않는다는 조건은 트리의 성립 조건이기도 함  \n",
    "  \n",
    "\n",
    "최소 신장 트리 알고리즘  \n",
    "- 신장 트리 중 최소 비용으로 만들 수 있는 신장 트리를 찾는 알고리즘\n",
    "- 간선의 개수는: (노드 개수) - 1\n",
    "- 포함된 모든 간선의 비용 합: 최종 비용\n",
    "  \n",
    "\n",
    "크루스칼 알고리즘 (Kruskal Algorithm)  \n",
    "- 대표적인 최소 신장 트리 알고리즘  \n",
    "- 그리디 알고리즘으로 분류됨  \n",
    "- 모든 간선에 대해 정렬 수행 -> 거리가 가장 짧은 간선부터 집합에 포함 -> 사이클을 발생시키는 간선은 집합에 포함X\n",
    "- 시간 복잡도: O(ElogE) \n",
    "- (간선의 개수: E, 시간이 가장 오래 걸리는 부분인 간선 정렬 작업이며, 표준 라이브러리로 정렬 수행 시 시간 복잡도가 O(ElogE)이기 때문)"
   ]
  },
  {
   "cell_type": "markdown",
   "metadata": {},
   "source": [
    "크루스칼 알고리즘 구현\n",
    "1. 간선 데이터를 비용에 따라 오름차순으로 정렬\n",
    "2. 사이클이 발생여부에 따라 최소 신장 트리에 포함 - 발생 시, 집합에 포함X\n",
    "3. 모든 간선에 대해 2번 반복"
   ]
  },
  {
   "cell_type": "code",
   "execution_count": 2,
   "metadata": {},
   "outputs": [
    {
     "name": "stdout",
     "output_type": "stream",
     "text": [
      "159\n"
     ]
    }
   ],
   "source": [
    "# 크루스칼 알고리즘 구현\n",
    "\n",
    "# 특정 원소가 포함되는지 확인 (경로 압축 사용)\n",
    "def find_parent(parent, x):\n",
    "\n",
    "    # 루트 노드가 아니라면, 재귀적 호출\n",
    "    if parent[x] != x:\n",
    "        parent[x] = find_parent(parent,parent[x])\n",
    "    return parent[x]\n",
    "\n",
    "# union 함수 생성\n",
    "def union_parent(parent, a, b):\n",
    "\n",
    "    # 부모노드 찾기\n",
    "    a = find_parent(parent, a)\n",
    "    b = find_parent(parent, b)\n",
    "\n",
    "    # 더 작은 값을 부모노드로 설정, 부모노드 리스트 갱신\n",
    "    if a < b:\n",
    "        parent[b] = a\n",
    "    else:\n",
    "        parent[a] = b\n",
    "\n",
    "# 노드, 간선 (간선 정보)의 개수 입력받기\n",
    "v, e = map(int, input().split())\n",
    "\n",
    "# 부모노드 초기화\n",
    "parent = [0] * (v + 1)\n",
    "for i in range(1, v + 1):\n",
    "    parent[i] = i       # 자기 자신으로 부모노드 초기화\n",
    "\n",
    "# 모든 간선 정보 입력 받기 (비용 c, 시작 s, 끝 e)\n",
    "edges = []\n",
    "for _ in range(e):\n",
    "    s, e, c = map(int, input().split())\n",
    "    # 튜플의 첫 번째 요소가 정렬 기준이므로, 첫 번째에 비용 저장\n",
    "    edges.append((c, s, e))\n",
    "\n",
    "# 간선을 비용순으로 정렬\n",
    "edges.sort()\n",
    "\n",
    "# 최종 비용 변수 초기화\n",
    "result = 0\n",
    "\n",
    "# 간선을 하나씩 확인하며 신장트리에 추가\n",
    "for edge in edges:\n",
    "    c, s, e = edge\n",
    "     # 사이클이 발생하지 않는다면, 추가\n",
    "    if find_parent(parent, s) != find_parent(parent, e):\n",
    "        union_parent(parent, s, e)\n",
    "        result += c\n",
    "\n",
    "# 최종 비용 출력\n",
    "print(result)"
   ]
  },
  {
   "cell_type": "markdown",
   "metadata": {},
   "source": [
    "위상 정렬 (Topology Sort)\n",
    "- 순서가 정해져 있는 일련의 작업을 차례대로 수행해야 할 때 사용할 수 있는 알고리즘\n",
    "- 사이클이 없는 방향 그래프 (Direct Acyclic Graph; DAG)의 모든 노드를 '방향성에 거스르지 않도록 순서대로 나열하는 것'\n",
    "- 그래프상에서 선후 관계가 있다면, 위상 정렬을 수행해 모든 선후 관계를 지키는 전체 순서를 계산할 수 있음\n",
    "\n",
    "진입차수 (Indegree)\n",
    "- 특정한 노드로 '들어오는' 간선의 개수\n",
    "\n",
    "진출차수 (Outdegree)\n",
    "- 특정한 노드에서 '나가는' 간선의 개수"
   ]
  },
  {
   "cell_type": "markdown",
   "metadata": {},
   "source": [
    "위상 정렬 알고리즘 구현 방법 (큐 이용)\n",
    "- 진입차수 나타내는 리스트 작성\n",
    "1. 진입차수가 0인 노드를 큐에 넣음\n",
    "2. 큐가 빌 때까지 다음 과정 반복\n",
    "   (1) 큐에서 원소를 꺼낸 후, 해당 노드에서 출발하는 간선을 그래프에서 제거함\n",
    "   (2) 새롭게 진입차수가 0이 된 노드를 큐에 넣음\n",
    "- 결과적으로, 각 노드가 큐에 들어온 순서 = 위상 정렬 결과\n",
    "\n",
    "위상 정렬 알고리즘 (큐 이용)의 특징\n",
    "1. 사이클이 포함되지 않는 방향 그래프(DAG)에서만 수행 가능\n",
    "2. 위상 정렬 알고리즘에는 답이 여러개일 수 있음\n",
    "   - 큐에 새로 들어가는 원소가 2개 이상일 수 있으므로\n",
    "3. 모든 원소를 방문하기 전(큐에서 원소가 v번 추출되기 전)에 큐가 빈다면, 사이클이 존재하는 것\n",
    "   - 사이클이 존재하면, 모든 노드가 진입차수가 1 이상이 되므로 사이클에 포함된 원소들은 어느것도 큐에 들어갈 수 없음\n",
    "4. 스택을 활용한 DFS를 이용해 위상 정렬 수행 가능"
   ]
  },
  {
   "cell_type": "code",
   "execution_count": 7,
   "metadata": {},
   "outputs": [
    {
     "name": "stdout",
     "output_type": "stream",
     "text": [
      "1 2 5 3 6 4 7 "
     ]
    }
   ],
   "source": [
    "# 위상 정렬 구현 (큐 이용)\n",
    "\n",
    "# 큐 라이브러리 호출\n",
    "from collections import deque\n",
    "\n",
    "# 노드, 간선의 개수 입력받기\n",
    "v, e = map(int, input().split())\n",
    "\n",
    "# 진입 차수 리스트 초기화\n",
    "indegree = [0] * (v + 1)\n",
    "\n",
    "# 간선 정보 연결 리스트 초기화\n",
    "graph = [[] for i in range(v + 1)]\n",
    "\n",
    "# 모든 간선의 정보 입력받기\n",
    "# 연결된 정보 리스트, 진입 차수 리스트 갱신\n",
    "for _ in range(e):\n",
    "    s, e = map(int, input().split())\n",
    "    graph[s].append(e)  # 그래프에서 s에서 e로 이동가능\n",
    "    indegree[e] += 1    # e의 진입 차수 1 증가\n",
    "\n",
    "# 위상 정렬 함수 생성\n",
    "def topology_sort():\n",
    "    result = []     # 결과 저장 리스트\n",
    "    q = deque()     # 큐 생성\n",
    "\n",
    "    # 진입 차수가 0인 노드 큐에 저장\n",
    "    for i in range(1, v + 1):\n",
    "        if indegree[i] == 0:\n",
    "            q.append(i)\n",
    "\n",
    "    # 큐가 빌 때까지 반복\n",
    "    while q:\n",
    "        # 큐에서 원소 꺼냄\n",
    "        now = q.popleft()\n",
    "        result.append(now)    # 큐에서 꺼낸 요소 정렬 리스트에 넣기\n",
    "\n",
    "        # 현재 노드와 연결된 노드의 진입차수 0으로 변경\n",
    "        for node in graph[now]:\n",
    "            indegree[node] -= 1\n",
    "\n",
    "            # 새로 진입 차수가 0인 노드 큐에 저장\n",
    "            if indegree[node] == 0:\n",
    "                q.append(node)\n",
    "\n",
    "    # 위상 정렬 수행 결과 출력\n",
    "    for i in result:\n",
    "        print(i, end=' ')\n",
    "\n",
    "# 위상 정렬 수행\n",
    "topology_sort()"
   ]
  }
 ],
 "metadata": {
  "kernelspec": {
   "display_name": "Python 3.10.5 64-bit",
   "language": "python",
   "name": "python3"
  },
  "language_info": {
   "codemirror_mode": {
    "name": "ipython",
    "version": 3
   },
   "file_extension": ".py",
   "mimetype": "text/x-python",
   "name": "python",
   "nbconvert_exporter": "python",
   "pygments_lexer": "ipython3",
   "version": "3.10.5"
  },
  "orig_nbformat": 4,
  "vscode": {
   "interpreter": {
    "hash": "73e0f9298fc44a2553d445ea3d56193d3db151e2ab5c4b2ec3845cad4bb2f0bd"
   }
  }
 },
 "nbformat": 4,
 "nbformat_minor": 2
}
