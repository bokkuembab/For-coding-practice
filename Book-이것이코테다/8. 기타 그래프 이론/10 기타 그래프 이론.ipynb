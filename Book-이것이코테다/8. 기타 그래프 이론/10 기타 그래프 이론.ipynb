{
 "cells": [
  {
   "cell_type": "markdown",
   "metadata": {},
   "source": [
    "기타 그래프 이론  \n",
    "##### 그래프  \n",
    "- 노드와 노드 사이에 연결된 간선의 정보를 갖고 있는 자료구조\n",
    "- '알고리즘 문제에서 서로 다른 개체 (혹은 객체)가 서로 연결되어 있다' 는 내용이 나오면 가장 먼저 그래프 알고리즘을 떠올려야 함\n",
    "\n",
    "##### 트리\n",
    "- 다양한 알고리즘에서 사용됨\n",
    "- 부모에서 자식으로 내려오는 계층적인 모델에 속함\n",
    "\n",
    "  |           |          그래프             |   트리        |  \n",
    "  |----------|-----------------------------|--------------|\n",
    "  |  방향성 | 방향 그래프 혹은 무방향 그래프 | 방향 그래프 |  \n",
    "  |   순환성 |         순환 및 비순환      |    비순환      |\n",
    "  | 루트 노드 존재 여부|루트 노드가 없음 | 루트 노드가 존재|\n",
    "  | 노드간 관계성| 부모와 자식 관계 없음 | 부모와 자식 관계|\n",
    "  |모델의 종류| 네트워크 모델| 계층 모델|"
   ]
  },
  {
   "cell_type": "markdown",
   "metadata": {},
   "source": [
    "서로소 집합\n",
    "- 공통 원소가 없는 집합\n",
    "- 서로소 부분 집합들로 나누어진 원소들의 데이터를 처리하기 위한 자료구조\n",
    "- union, find 연산 사용함-> uniton-find 자료구조라고 부르기도 함\n",
    "- 트리 자료구조를 이용해 집합 표현\n",
    "\n",
    "연산\n",
    "- UNION:2개의 원소가 포함된 집합을 하나의 집합으로 합치는 연산\n",
    "- FIND: 특정한 원소가 속한 집합이 어떤 집합인지 알려주는 연산"
   ]
  },
  {
   "cell_type": "markdown",
   "metadata": {},
   "source": [
    "기본적인 서로소집합 구현\n",
    "- 문제점: union 연산이 편향되게 이루어지는 경우 find 함수가 비효율적으로 동작함\n",
    "- 최악의 경우 모든 노드를 탐색하여 시간복잡도가 O(V)임"
   ]
  },
  {
   "cell_type": "code",
   "execution_count": 4,
   "metadata": {},
   "outputs": [
    {
     "name": "stdout",
     "output_type": "stream",
     "text": [
      "각 원소가 속한 집합:  1 1 1 1 5 5 \n",
      "부모 테이블:  1 1 2 1 5 5 "
     ]
    }
   ],
   "source": [
    "# 기본적인 서로소 집합 알고리즘\n",
    "\n",
    "# find 연산 구현\n",
    "# 특정 원소가 포함된 집합 찾기\n",
    "def find_parent(parent, x):\n",
    "\n",
    "    # 루트 노드가 아니라면, 루트 노드를 찾을 때까지 재귀적 호출\n",
    "    if parent[x] != x:\n",
    "        return find_parent(parent, parent[x])\n",
    "    return x\n",
    "\n",
    "# union 연산 구현\n",
    "# 두 원소가 속한 집합을 합치기\n",
    "def union_parent(parent, a, b):\n",
    "\n",
    "    # 각자의 부모 노드 찾기\n",
    "    a = find_parent(parent, a)\n",
    "    b = find_parent(parent, b)\n",
    "\n",
    "    if a < b:\n",
    "        parent[b] = a\n",
    "    else:\n",
    "        parent[a] = b\n",
    "\n",
    "# 노드, 간선(union 연산)의 개수 입력 받기\n",
    "v, e = map(int, input().split())\n",
    "\n",
    "# 부모노드 정보 담은 테이블 초기화\n",
    "parent = [0] * (v + 1)\n",
    "for i in range(1, v + 1):\n",
    "    parent[i] = i       # 부모 노드를 자기 자신으로 초기화\n",
    "\n",
    "# union 연산 수행\n",
    "for i in range(e):\n",
    "    a, b = map(int, input().split())\n",
    "    union_parent(parent, a, b)\n",
    "\n",
    "# 각 원소가 속한 집합 출력\n",
    "print('각 원소가 속한 집합: ', end=' ')\n",
    "for i in range(1, v + 1):\n",
    "    print(find_parent(parent, i), end=' ')\n",
    "print()\n",
    "\n",
    "#부모 노드 테이블 출력\n",
    "print('부모 테이블: ', end=' ')\n",
    "for i in range(1, v + 1):\n",
    "    print(parent[i], end=' ')"
   ]
  },
  {
   "cell_type": "markdown",
   "metadata": {},
   "source": [
    "서로소 집합 자료구조\n",
    "- 경로 압축 (Path Compression)  \n",
    ": 찾은 부모노드의 값을 바로 갱신함\n",
    ": 즉, 해당 노드의 바로 위 부모 노드가 아닌, 최상위 부모 노드 저장\n",
    ": 기본적인 서로소 집합 구현 방법보다 시간복잡도가 개선됨"
   ]
  },
  {
   "cell_type": "code",
   "execution_count": 7,
   "metadata": {},
   "outputs": [
    {
     "name": "stdout",
     "output_type": "stream",
     "text": [
      "각 원소가 속한 집합: 1 1 1 1 5 5 \n",
      "부모 테이블:  1 1 1 1 5 5 "
     ]
    }
   ],
   "source": [
    "# 경로 압축 이용한 서로소 집합 알고리즘\n",
    "\n",
    "# 찾기 함수 구현 (경로압축 기법 이용)\n",
    "def find_parent(parent, x):\n",
    "\n",
    "    # 부모 노드 아니라면, 재귀적으로 찾기\n",
    "    if parent[x] != x:\n",
    "        parent[x] = find_parent(parent, parent[x])      # 찾은 부모 노드 계속 갱신\n",
    "    \n",
    "    return parent[x]\n",
    "\n",
    "# 합집합 함수 구현\n",
    "def union_parent(parent, a, b):\n",
    "    \n",
    "    # 각자의 부모노드 찾기\n",
    "    a = find_parent(parent, a)\n",
    "    b = find_parent(parent, b)\n",
    "\n",
    "    # 더 작은 값을 부모노드로 설정\n",
    "    if a < b:\n",
    "        parent[b] = a\n",
    "    else:\n",
    "        parent[a] = b\n",
    "\n",
    "# 노드, 간선의 개수 입력받기\n",
    "v, e = map(int, input().split())\n",
    "\n",
    "# 부모 노드 저장 리스트 초기화\n",
    "parent = [0] * (v + 1)\n",
    "for i in range(1, v + 1):\n",
    "    parent[i] = i   # 자기 자신으로 부모노드 설정\n",
    "\n",
    "# 각 간선에 대해 union 연산 수행\n",
    "for i in range(e):\n",
    "    a, b = map(int, input().split())\n",
    "    union_parent(parent, a, b)\n",
    "\n",
    "# 부모 노드들 출력\n",
    "print('각 원소가 속한 집합:', end=' ')\n",
    "for i in range(1, v + 1):\n",
    "    print(find_parent(parent, i), end=' ')\n",
    "print()\n",
    "\n",
    "# 부모 리스트 출력\n",
    "print('부모 테이블: ', end=' ')\n",
    "for i in range(1, v + 1):\n",
    "    print(parent[i], end=' ')"
   ]
  },
  {
   "cell_type": "markdown",
   "metadata": {},
   "source": [
    "서로소 집합을 활용한 사이클 판별\n",
    "- 서로소 집합은 무방향 그래프내에서의 사이클 판별에 사용될 수 있음\n",
    "- (방향 그래프에서의 사이클 판별은 DFS로!)"
   ]
  },
  {
   "cell_type": "code",
   "execution_count": 9,
   "metadata": {},
   "outputs": [
    {
     "name": "stdout",
     "output_type": "stream",
     "text": [
      "사이클이 발생했습니다.\n"
     ]
    }
   ],
   "source": [
    "# 서로소 집합을 활용한 사이클 판별 소스코드\n",
    "\n",
    "# find 함수 생성 (경로 압축 이용)\n",
    "def find_parent(parent, x):\n",
    "    \n",
    "    # 부모 노드가 아니라면, 재귀적 호출\n",
    "    if parent[x] != x:\n",
    "        parent[x] = find_parent(parent, parent[x])\n",
    "    return parent[x]\n",
    "\n",
    "# union 함수 생성\n",
    "def union_parent(parent, a, b):\n",
    "\n",
    "    # 부모노드 찾기\n",
    "    a = find_parent(parent, a)\n",
    "    b = find_parent(parent, b)\n",
    "\n",
    "    # 더 작은 값을 부모노드로 설정\n",
    "    if a < b:\n",
    "        parent[b] = a\n",
    "    else:\n",
    "        parent[a] = b\n",
    "\n",
    "# 노드, 간선의 개수 입력 받기\n",
    "v, e = map(int, input().split())\n",
    "\n",
    "# 변수들 설정\n",
    "# 부모 노드 리스트 초기화\n",
    "parent = [0] * (v + 1)\n",
    "for i in range(1, v + 1):\n",
    "    parent[i] = i\n",
    "# 싸이클 발생여부 변수 초기화\n",
    "cycle = False\n",
    "\n",
    "# union 연산 수행하며 싸이클 확인\n",
    "for i in range(e):\n",
    "\n",
    "    # 간선 입력 받기\n",
    "    a, b = map(int, input().split())\n",
    "\n",
    "    # 사이클이 발생한 경우, 종료\n",
    "    # 부모 노드 같은지 확인\n",
    "    if find_parent(parent, a) == find_parent(parent, b):\n",
    "        cycle = True\n",
    "        break\n",
    "    # 사이클이 발생하지 않았다면, 합집합 연산 수행\n",
    "    else:\n",
    "        union_parent(parent, a, b)\n",
    "\n",
    "# 결과 출력\n",
    "if cycle:\n",
    "    print('사이클이 발생했습니다.')\n",
    "else:\n",
    "    print('사이클이 발생하지 않았습니다.')"
   ]
  }
 ],
 "metadata": {
  "kernelspec": {
   "display_name": "Python 3.10.5 64-bit",
   "language": "python",
   "name": "python3"
  },
  "language_info": {
   "codemirror_mode": {
    "name": "ipython",
    "version": 3
   },
   "file_extension": ".py",
   "mimetype": "text/x-python",
   "name": "python",
   "nbconvert_exporter": "python",
   "pygments_lexer": "ipython3",
   "version": "3.10.5"
  },
  "orig_nbformat": 4,
  "vscode": {
   "interpreter": {
    "hash": "73e0f9298fc44a2553d445ea3d56193d3db151e2ab5c4b2ec3845cad4bb2f0bd"
   }
  }
 },
 "nbformat": 4,
 "nbformat_minor": 2
}
