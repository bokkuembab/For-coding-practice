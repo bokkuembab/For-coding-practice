{
 "cells": [
  {
   "cell_type": "markdown",
   "metadata": {},
   "source": [
    "정렬 - 연속된 데이터를 기준에 따라서 정렬하기 위한 알고리즘"
   ]
  },
  {
   "cell_type": "markdown",
   "metadata": {},
   "source": [
    "선택 정렬\n",
    "(시간 복잡도: O(n^2))"
   ]
  },
  {
   "cell_type": "code",
   "execution_count": 1,
   "metadata": {},
   "outputs": [],
   "source": [
    "# 선택 정렬\n",
    "\n",
    "def selection_sort(data):\n",
    "    for i in range(len(data)):\n",
    "\n",
    "        # 가장 작은 요소의 인덱스\n",
    "        min_index = i\n",
    "\n",
    "        for j in range(i + 1, len(data)):\n",
    "\n",
    "            # 만약 min_index보다 작으면 바꿔줌\n",
    "            if data[j] < data[min_index]:\n",
    "                min_index = j\n",
    "\n",
    "        # 가장 작은 요소를 앞에 넣어줌\n",
    "        data[i], data[min_index] = data[min_index], data[i]     # 스와프\n",
    "\n",
    "    # 정렬한 리스트 출력\n",
    "    print(data)"
   ]
  },
  {
   "cell_type": "code",
   "execution_count": 2,
   "metadata": {},
   "outputs": [
    {
     "name": "stdout",
     "output_type": "stream",
     "text": [
      "[0, 1, 2, 3, 4, 5, 6, 7, 8, 9]\n"
     ]
    }
   ],
   "source": [
    "array = [7, 5, 9, 0, 3, 1, 6, 2, 4, 8]\n",
    "selection_sort(array)"
   ]
  },
  {
   "cell_type": "markdown",
   "metadata": {},
   "source": [
    "삽입 정렬\n",
    "(시간 복잡도: O(n^2), 거의 정렬된 경우: O(n))"
   ]
  },
  {
   "cell_type": "code",
   "execution_count": 7,
   "metadata": {},
   "outputs": [],
   "source": [
    "# 삽입 정렬\n",
    "def insert_sort(data):\n",
    "\n",
    "    # 삽입 정렬은 인덱스 1부터 시작\n",
    "    # 첫 번째 요소는 이미 정렬되었다고 간주하기 때문\n",
    "    for i in range(1, len(data)):\n",
    "\n",
    "        # 이미 정렬된 앞쪽 데이터들과 확인하며 앞으로 이동\n",
    "        for j in range(i, 0, -1):\n",
    "            \n",
    "            # 선택된 값이 더 작으면 한 칸씩 앞쪽으로 이동\n",
    "            if data[j] < data[j - 1]:\n",
    "                data[j], data[j - 1] = data[j - 1], data[j]\n",
    "\n",
    "            # 선택된 값보다 작은 값 만나면 이동 종료\n",
    "            else:\n",
    "                break\n",
    "\n",
    "    # 정렬 데이터 출력\n",
    "    print(data)"
   ]
  },
  {
   "cell_type": "code",
   "execution_count": 8,
   "metadata": {},
   "outputs": [
    {
     "name": "stdout",
     "output_type": "stream",
     "text": [
      "[0, 1, 2, 3, 4, 5, 6, 7, 8, 9]\n"
     ]
    }
   ],
   "source": [
    "array = [7, 5, 9, 0, 3, 1, 6, 2, 4, 8]\n",
    "insert_sort(array)"
   ]
  },
  {
   "cell_type": "markdown",
   "metadata": {},
   "source": [
    "퀵 정렬 \n",
    "(시간복잡도: O(nlogn))\n",
    "가장 많이 사용되는 알고리즘!"
   ]
  },
  {
   "cell_type": "code",
   "execution_count": 17,
   "metadata": {},
   "outputs": [],
   "source": [
    "# 퀵 정렬\n",
    "# 기준 설정을 위한 피벗 사용\n",
    "# 재귀 함수 사용\n",
    "def quick_sort(data, start, end):\n",
    "    \n",
    "    # 원소가 1개인 경우 종료\n",
    "    if start >= end:\n",
    "        return data\n",
    "\n",
    "    # 첫 번째 데이터를 피벗으로 설정\n",
    "    pivot = start\n",
    "    left = start + 1\n",
    "    right = end\n",
    "\n",
    "    # 엇갈릴 때까지 반복\n",
    "    while left <= right:\n",
    "\n",
    "        # 피벗보다 큰 데이터를 찾을 때까지 왼쪽에서부터 서치\n",
    "        while left <= end and data[left] <= data[pivot]:\n",
    "            left += 1\n",
    "\n",
    "        # 피벗보다 작은 데이터를 찾을 때까지 오른쪽에서부터 서치\n",
    "        while right > 0 and data[right] >= data[pivot]:\n",
    "            right -= 1\n",
    "\n",
    "        if left > right:    # 엇갈렸다면, 작은 데이터와 피벗을 교체\n",
    "            data[right], data[pivot] = data[pivot], data[right] \n",
    "        else:               # 엇갈리지 않았다면, 큰 데이터와 작은 데이터를 교체\n",
    "            data[right], data[left] = data[left], data[right]\n",
    "\n",
    "    # 분할 이후, 왼쪽과 오른쪽 부분 각각 재귀적으로 정렬 수행\n",
    "    quick_sort(data, start, right - 1)\n",
    "    quick_sort(data, right + 1, end)"
   ]
  },
  {
   "cell_type": "code",
   "execution_count": 19,
   "metadata": {},
   "outputs": [
    {
     "name": "stdout",
     "output_type": "stream",
     "text": [
      "[0, 1, 2, 4, 3, 5, 6, 7, 8, 9]\n"
     ]
    }
   ],
   "source": [
    "array = [7, 5, 9, 0, 3, 1, 6, 2, 4, 8]\n",
    "quick_sort(array, 0, len(array) - 1)\n",
    "print(array)"
   ]
  },
  {
   "cell_type": "code",
   "execution_count": 21,
   "metadata": {},
   "outputs": [],
   "source": [
    "# 퀵정렬 - 간단한 버전 but 연산 횟수 증가\n",
    "def quick_sort2(data):\n",
    "\n",
    "    # 리스트가 하나의 요소만 있으면 종료\n",
    "    if len(data) <= 1:\n",
    "        return data\n",
    "\n",
    "    pivot = data[0]     # 첫 번째 요소를 피벗으로 설정\n",
    "    tail = data[1:]     # 피벗을 제외한 리스트\n",
    "\n",
    "    left_side = [x for x in tail if x <= pivot]     # 분할된 왼쪽 부분\n",
    "    right_side = [x for x in tail if x > pivot]     # 분할된 오른쪽 부분\n",
    "\n",
    "    # 분할 이후 왼쪽과 오른쪽 부분 각각 정렬 수행, 전체 리스트 반환\n",
    "    return quick_sort2(left_side) + [pivot] + quick_sort2(right_side)"
   ]
  },
  {
   "cell_type": "code",
   "execution_count": 25,
   "metadata": {},
   "outputs": [
    {
     "name": "stdout",
     "output_type": "stream",
     "text": [
      "[0, 1, 2, 3, 4, 5, 6, 7, 8, 9]\n"
     ]
    }
   ],
   "source": [
    "array = [7, 5, 9, 0, 3, 1, 6, 2, 4, 8]\n",
    "a = quick_sort2(array)\n",
    "print(a)"
   ]
  }
 ],
 "metadata": {
  "kernelspec": {
   "display_name": "Python 3.10.5 64-bit",
   "language": "python",
   "name": "python3"
  },
  "language_info": {
   "codemirror_mode": {
    "name": "ipython",
    "version": 3
   },
   "file_extension": ".py",
   "mimetype": "text/x-python",
   "name": "python",
   "nbconvert_exporter": "python",
   "pygments_lexer": "ipython3",
   "version": "3.10.5"
  },
  "orig_nbformat": 4,
  "vscode": {
   "interpreter": {
    "hash": "73e0f9298fc44a2553d445ea3d56193d3db151e2ab5c4b2ec3845cad4bb2f0bd"
   }
  }
 },
 "nbformat": 4,
 "nbformat_minor": 2
}
